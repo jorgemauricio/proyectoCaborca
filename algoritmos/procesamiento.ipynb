{
 "cells": [
  {
   "cell_type": "code",
   "execution_count": 1,
   "metadata": {
    "collapsed": true
   },
   "outputs": [],
   "source": [
    "# librerías\n",
    "import matplotlib.pyplot as plt\n",
    "from mpl_toolkits.basemap import Basemap\n",
    "from numpy import meshgrid\n",
    "from scipy.interpolate import griddata as gd\n",
    "import os\n",
    "from netCDF4 import Dataset\n",
    "import numpy as np\n",
    "import pandas as pd\n",
    "%matplotlib inline"
   ]
  },
  {
   "cell_type": "code",
   "execution_count": 2,
   "metadata": {
    "collapsed": true
   },
   "outputs": [],
   "source": [
    "# constantes\n",
    "LONG_MIN = -115.65\n",
    "LONG_MAX = -107.94\n",
    "LAT_MIN = 25.41\n",
    "LAT_MAX = 33.06"
   ]
  },
  {
   "cell_type": "code",
   "execution_count": 3,
   "metadata": {
    "collapsed": true
   },
   "outputs": [],
   "source": [
    "nombreArchivo = \"GBBEPx.emis_so2.001.20180122.nc\"\n",
    "arrayNombreArchivo = nombreArchivo.split(\".\")\n",
    "arrayComponente = arrayNombreArchivo[1].split(\"_\")\n",
    "nombreParaMapa = arrayComponente[1]\n",
    "rutaArchivo = \"../data/2018-01-22/{}\".format(nombreArchivo)"
   ]
  },
  {
   "cell_type": "code",
   "execution_count": 4,
   "metadata": {
    "collapsed": true
   },
   "outputs": [],
   "source": [
    "dataset = Dataset(rutaArchivo)"
   ]
  },
  {
   "cell_type": "code",
   "execution_count": 5,
   "metadata": {},
   "outputs": [
    {
     "data": {
      "text/plain": [
       "<class 'netCDF4._netCDF4.Dataset'>\n",
       "root group (NETCDF3_CLASSIC data model, file format NETCDF3):\n",
       "    PRODUCT_ALGORITHM_VERSION: 1.0\n",
       "    TIME_RANGE: day\n",
       "    RangeBeginningDate(YYYY-DOY): 2018-22\n",
       "    RangeBeginningTime(UTC-hour): 0\n",
       "    RangeEndingDate(YYYY-DOY): 2018-22\n",
       "    RangeEndingTime(UTC-hour): 23\n",
       "    WestBoundingCoordinate(degree): -180.0\n",
       "    EastBoundingCoordinate(degree): 180.0\n",
       "    NorthBoundingCoordinate(degree): 90.0\n",
       "    SouthBoundingCoordinate(degree): -90.0\n",
       "    dimensions(sizes): Time(1), Latitude(721), Longitude(1152)\n",
       "    variables(dimensions): float32 \u001b[4mTime\u001b[0m(Time), float32 \u001b[4mLatitude\u001b[0m(Latitude), float32 \u001b[4mLongitude\u001b[0m(Longitude), float64 \u001b[4mbiomass\u001b[0m(Time,Latitude,Longitude)\n",
       "    groups: "
      ]
     },
     "execution_count": 5,
     "metadata": {},
     "output_type": "execute_result"
    }
   ],
   "source": [
    "dataset"
   ]
  },
  {
   "cell_type": "code",
   "execution_count": 6,
   "metadata": {},
   "outputs": [
    {
     "data": {
      "text/plain": [
       "OrderedDict([('Time', <class 'netCDF4._netCDF4.Variable'>\n",
       "              float32 Time(Time)\n",
       "                  units: days since 2018-01-22 12:00:00\n",
       "                  time_increment: 240000\n",
       "                  begin_date: 20180122\n",
       "                  begin_time: 120000\n",
       "              unlimited dimensions: \n",
       "              current shape = (1,)\n",
       "              filling off), ('Latitude', <class 'netCDF4._netCDF4.Variable'>\n",
       "              float32 Latitude(Latitude)\n",
       "                  long_name: Latitude\n",
       "                  units: degrees_north\n",
       "                  valid_range: [-90.  90.]\n",
       "                  scale_factor: 1.0\n",
       "                  add_offset: 0.0\n",
       "                  _FillValue: -9999.0\n",
       "              unlimited dimensions: \n",
       "              current shape = (721,)\n",
       "              filling off), ('Longitude', <class 'netCDF4._netCDF4.Variable'>\n",
       "              float32 Longitude(Longitude)\n",
       "                  long_name: Longitude\n",
       "                  units: degree_east\n",
       "                  valid_range: [-180.  180.]\n",
       "                  scale_factor: 1.0\n",
       "                  add_offset: 0.0\n",
       "                  _FillValue: -9999.0\n",
       "              unlimited dimensions: \n",
       "              current shape = (1152,)\n",
       "              filling off), ('biomass', <class 'netCDF4._netCDF4.Variable'>\n",
       "              float64 biomass(Time, Latitude, Longitude)\n",
       "                  units: kg s-1 m-2\n",
       "                  long_name: SO2 Biomass Emissions\n",
       "                  valid_range: [      0.  100000.]\n",
       "                  scale_factor: 1.0\n",
       "                  add_offset: 0.0\n",
       "                  _FillValue: -9999.0\n",
       "              unlimited dimensions: \n",
       "              current shape = (1, 721, 1152)\n",
       "              filling off)])"
      ]
     },
     "execution_count": 6,
     "metadata": {},
     "output_type": "execute_result"
    }
   ],
   "source": [
    "dataset.variables"
   ]
  },
  {
   "cell_type": "code",
   "execution_count": 7,
   "metadata": {},
   "outputs": [
    {
     "data": {
      "text/plain": [
       "(1, 721, 1152)"
      ]
     },
     "execution_count": 7,
     "metadata": {},
     "output_type": "execute_result"
    }
   ],
   "source": [
    "dataset.variables['biomass'].shape"
   ]
  },
  {
   "cell_type": "code",
   "execution_count": 19,
   "metadata": {
    "collapsed": true
   },
   "outputs": [],
   "source": [
    "\n",
    "biomass = np.array(dataset.variables['biomass'])"
   ]
  },
  {
   "cell_type": "code",
   "execution_count": 22,
   "metadata": {},
   "outputs": [
    {
     "data": {
      "text/plain": [
       "dtype('float64')"
      ]
     },
     "execution_count": 22,
     "metadata": {},
     "output_type": "execute_result"
    }
   ],
   "source": [
    "biomass.dtype"
   ]
  },
  {
   "cell_type": "code",
   "execution_count": null,
   "metadata": {
    "collapsed": true
   },
   "outputs": [],
   "source": []
  },
  {
   "cell_type": "code",
   "execution_count": 14,
   "metadata": {},
   "outputs": [
    {
     "data": {
      "text/plain": [
       "(1, 721, 1152)"
      ]
     },
     "execution_count": 14,
     "metadata": {},
     "output_type": "execute_result"
    }
   ],
   "source": [
    "biomass.shape"
   ]
  },
  {
   "cell_type": "code",
   "execution_count": 15,
   "metadata": {},
   "outputs": [
    {
     "data": {
      "text/plain": [
       "array([ 0.,  0.,  0., ...,  0.,  0.,  0.])"
      ]
     },
     "execution_count": 15,
     "metadata": {},
     "output_type": "execute_result"
    }
   ],
   "source": [
    "biomass[0][1]"
   ]
  },
  {
   "cell_type": "code",
   "execution_count": 16,
   "metadata": {
    "collapsed": true
   },
   "outputs": [],
   "source": [
    "biomass = dataset.variables['biomass'][:]\n",
    "Latitude = dataset.variables['Latitude'][:]\n",
    "Longitude = dataset.variables['Longitude'][:]"
   ]
  },
  {
   "cell_type": "code",
   "execution_count": 23,
   "metadata": {},
   "outputs": [
    {
     "data": {
      "text/plain": [
       "9.7892747852673483e-09"
      ]
     },
     "execution_count": 23,
     "metadata": {},
     "output_type": "execute_result"
    }
   ],
   "source": [
    "biomass.max()\n"
   ]
  },
  {
   "cell_type": "code",
   "execution_count": 24,
   "metadata": {},
   "outputs": [
    {
     "data": {
      "text/plain": [
       "(721,)"
      ]
     },
     "execution_count": 24,
     "metadata": {},
     "output_type": "execute_result"
    }
   ],
   "source": [
    "Latitude.shape"
   ]
  },
  {
   "cell_type": "code",
   "execution_count": 25,
   "metadata": {},
   "outputs": [
    {
     "data": {
      "text/plain": [
       "(1152,)"
      ]
     },
     "execution_count": 25,
     "metadata": {},
     "output_type": "execute_result"
    }
   ],
   "source": [
    "Longitude.shape"
   ]
  },
  {
   "cell_type": "code",
   "execution_count": 26,
   "metadata": {
    "collapsed": true
   },
   "outputs": [],
   "source": [
    "dataText = \"Long,Lat,Biomass\\n\""
   ]
  },
  {
   "cell_type": "code",
   "execution_count": 27,
   "metadata": {
    "collapsed": true
   },
   "outputs": [],
   "source": [
    "for i in range(Longitude.shape[0]):\n",
    "    for j in range(Latitude.shape[0]):\n",
    "        tempText = \"{},{},{}\\n\".format(Longitude[i], Latitude[j], biomass[0,j,i])\n",
    "        dataText += tempText"
   ]
  },
  {
   "cell_type": "code",
   "execution_count": 28,
   "metadata": {
    "collapsed": true
   },
   "outputs": [],
   "source": [
    "fileName = '../temp/2018-01-12.csv'\n",
    "textFile = open(fileName, \"w\")\n",
    "textFile.write(dataText)\n",
    "textFile.close()"
   ]
  },
  {
   "cell_type": "code",
   "execution_count": 35,
   "metadata": {
    "collapsed": true
   },
   "outputs": [],
   "source": [
    "data = pd.read_csv(fileName)"
   ]
  },
  {
   "cell_type": "code",
   "execution_count": 36,
   "metadata": {},
   "outputs": [
    {
     "data": {
      "text/html": [
       "<div>\n",
       "<style>\n",
       "    .dataframe thead tr:only-child th {\n",
       "        text-align: right;\n",
       "    }\n",
       "\n",
       "    .dataframe thead th {\n",
       "        text-align: left;\n",
       "    }\n",
       "\n",
       "    .dataframe tbody tr th {\n",
       "        vertical-align: top;\n",
       "    }\n",
       "</style>\n",
       "<table border=\"1\" class=\"dataframe\">\n",
       "  <thead>\n",
       "    <tr style=\"text-align: right;\">\n",
       "      <th></th>\n",
       "      <th>Long</th>\n",
       "      <th>Lat</th>\n",
       "      <th>Biomass</th>\n",
       "    </tr>\n",
       "  </thead>\n",
       "  <tbody>\n",
       "    <tr>\n",
       "      <th>count</th>\n",
       "      <td>830592.000000</td>\n",
       "      <td>830592.000000</td>\n",
       "      <td>8.305920e+05</td>\n",
       "    </tr>\n",
       "    <tr>\n",
       "      <th>mean</th>\n",
       "      <td>-0.156250</td>\n",
       "      <td>0.000000</td>\n",
       "      <td>2.172953e-13</td>\n",
       "    </tr>\n",
       "    <tr>\n",
       "      <th>std</th>\n",
       "      <td>103.923072</td>\n",
       "      <td>52.033674</td>\n",
       "      <td>1.426549e-11</td>\n",
       "    </tr>\n",
       "    <tr>\n",
       "      <th>min</th>\n",
       "      <td>-180.000000</td>\n",
       "      <td>-90.000000</td>\n",
       "      <td>0.000000e+00</td>\n",
       "    </tr>\n",
       "    <tr>\n",
       "      <th>25%</th>\n",
       "      <td>-90.078125</td>\n",
       "      <td>-45.000000</td>\n",
       "      <td>0.000000e+00</td>\n",
       "    </tr>\n",
       "    <tr>\n",
       "      <th>50%</th>\n",
       "      <td>-0.156250</td>\n",
       "      <td>0.000000</td>\n",
       "      <td>0.000000e+00</td>\n",
       "    </tr>\n",
       "    <tr>\n",
       "      <th>75%</th>\n",
       "      <td>89.765625</td>\n",
       "      <td>45.000000</td>\n",
       "      <td>0.000000e+00</td>\n",
       "    </tr>\n",
       "    <tr>\n",
       "      <th>max</th>\n",
       "      <td>179.687500</td>\n",
       "      <td>90.000000</td>\n",
       "      <td>9.789275e-09</td>\n",
       "    </tr>\n",
       "  </tbody>\n",
       "</table>\n",
       "</div>"
      ],
      "text/plain": [
       "                Long            Lat       Biomass\n",
       "count  830592.000000  830592.000000  8.305920e+05\n",
       "mean       -0.156250       0.000000  2.172953e-13\n",
       "std       103.923072      52.033674  1.426549e-11\n",
       "min      -180.000000     -90.000000  0.000000e+00\n",
       "25%       -90.078125     -45.000000  0.000000e+00\n",
       "50%        -0.156250       0.000000  0.000000e+00\n",
       "75%        89.765625      45.000000  0.000000e+00\n",
       "max       179.687500      90.000000  9.789275e-09"
      ]
     },
     "execution_count": 36,
     "metadata": {},
     "output_type": "execute_result"
    }
   ],
   "source": [
    "data.describe()"
   ]
  },
  {
   "cell_type": "code",
   "execution_count": 37,
   "metadata": {
    "collapsed": true
   },
   "outputs": [],
   "source": [
    "data['Biomass'] = data['Biomass'] * 1000000000"
   ]
  },
  {
   "cell_type": "code",
   "execution_count": 38,
   "metadata": {},
   "outputs": [
    {
     "data": {
      "text/html": [
       "<div>\n",
       "<style>\n",
       "    .dataframe thead tr:only-child th {\n",
       "        text-align: right;\n",
       "    }\n",
       "\n",
       "    .dataframe thead th {\n",
       "        text-align: left;\n",
       "    }\n",
       "\n",
       "    .dataframe tbody tr th {\n",
       "        vertical-align: top;\n",
       "    }\n",
       "</style>\n",
       "<table border=\"1\" class=\"dataframe\">\n",
       "  <thead>\n",
       "    <tr style=\"text-align: right;\">\n",
       "      <th></th>\n",
       "      <th>Long</th>\n",
       "      <th>Lat</th>\n",
       "      <th>Biomass</th>\n",
       "    </tr>\n",
       "  </thead>\n",
       "  <tbody>\n",
       "    <tr>\n",
       "      <th>count</th>\n",
       "      <td>830592.000000</td>\n",
       "      <td>830592.000000</td>\n",
       "      <td>830592.000000</td>\n",
       "    </tr>\n",
       "    <tr>\n",
       "      <th>mean</th>\n",
       "      <td>-0.156250</td>\n",
       "      <td>0.000000</td>\n",
       "      <td>0.000217</td>\n",
       "    </tr>\n",
       "    <tr>\n",
       "      <th>std</th>\n",
       "      <td>103.923072</td>\n",
       "      <td>52.033674</td>\n",
       "      <td>0.014265</td>\n",
       "    </tr>\n",
       "    <tr>\n",
       "      <th>min</th>\n",
       "      <td>-180.000000</td>\n",
       "      <td>-90.000000</td>\n",
       "      <td>0.000000</td>\n",
       "    </tr>\n",
       "    <tr>\n",
       "      <th>25%</th>\n",
       "      <td>-90.078125</td>\n",
       "      <td>-45.000000</td>\n",
       "      <td>0.000000</td>\n",
       "    </tr>\n",
       "    <tr>\n",
       "      <th>50%</th>\n",
       "      <td>-0.156250</td>\n",
       "      <td>0.000000</td>\n",
       "      <td>0.000000</td>\n",
       "    </tr>\n",
       "    <tr>\n",
       "      <th>75%</th>\n",
       "      <td>89.765625</td>\n",
       "      <td>45.000000</td>\n",
       "      <td>0.000000</td>\n",
       "    </tr>\n",
       "    <tr>\n",
       "      <th>max</th>\n",
       "      <td>179.687500</td>\n",
       "      <td>90.000000</td>\n",
       "      <td>9.789275</td>\n",
       "    </tr>\n",
       "  </tbody>\n",
       "</table>\n",
       "</div>"
      ],
      "text/plain": [
       "                Long            Lat        Biomass\n",
       "count  830592.000000  830592.000000  830592.000000\n",
       "mean       -0.156250       0.000000       0.000217\n",
       "std       103.923072      52.033674       0.014265\n",
       "min      -180.000000     -90.000000       0.000000\n",
       "25%       -90.078125     -45.000000       0.000000\n",
       "50%        -0.156250       0.000000       0.000000\n",
       "75%        89.765625      45.000000       0.000000\n",
       "max       179.687500      90.000000       9.789275"
      ]
     },
     "execution_count": 38,
     "metadata": {},
     "output_type": "execute_result"
    }
   ],
   "source": [
    "data.describe()"
   ]
  },
  {
   "cell_type": "code",
   "execution_count": 41,
   "metadata": {},
   "outputs": [
    {
     "data": {
      "text/plain": [
       "<matplotlib.axes._subplots.AxesSubplot at 0x10ad14b70>"
      ]
     },
     "execution_count": 41,
     "metadata": {},
     "output_type": "execute_result"
    },
    {
     "data": {
      "image/png": "[encoded data removed]",
      "text/plain": [
       "<matplotlib.figure.Figure at 0x11e30c358>"
      ]
     },
     "metadata": {},
     "output_type": "display_data"
    }
   ],
   "source": [
    "\n",
    "data.Biomass.hist(bins=100)"
   ]
  },
  {
   "cell_type": "code",
   "execution_count": 42,
   "metadata": {},
   "outputs": [
    {
     "name": "stdout",
     "output_type": "stream",
     "text": [
      "<class 'pandas.core.frame.DataFrame'>\n",
      "RangeIndex: 830592 entries, 0 to 830591\n",
      "Data columns (total 3 columns):\n",
      "Long       830592 non-null float64\n",
      "Lat        830592 non-null float64\n",
      "Biomass    830592 non-null float64\n",
      "dtypes: float64(3)\n",
      "memory usage: 19.0 MB\n"
     ]
    }
   ],
   "source": [
    "data.info()"
   ]
  },
  {
   "cell_type": "code",
   "execution_count": 43,
   "metadata": {
    "collapsed": true
   },
   "outputs": [],
   "source": [
    "# límites\n",
    "# limites longitud > -115.65 y < -107.94\n",
    "data = data.loc[data['Long'] > LONG_MIN]\n",
    "data = data.loc[data['Long'] < LONG_MAX]"
   ]
  },
  {
   "cell_type": "code",
   "execution_count": 44,
   "metadata": {
    "collapsed": true
   },
   "outputs": [],
   "source": [
    "# limites latitud > 25.41 y < 33.06\n",
    "data = data.loc[data['Lat'] > LAT_MIN]\n",
    "data = data.loc[data['Lat'] < LAT_MAX]"
   ]
  },
  {
   "cell_type": "code",
   "execution_count": 45,
   "metadata": {},
   "outputs": [
    {
     "data": {
      "text/plain": [
       "<matplotlib.figure.Figure at 0x11bed0550>"
      ]
     },
     "metadata": {},
     "output_type": "display_data"
    }
   ],
   "source": [
    "# obtener valores de x, y\n",
    "lons = np.array(data['Long'])\n",
    "lats = np.array(data['Lat'])\n",
    "\n",
    "#%% iniciar la gráfica\n",
    "plt.clf()"
   ]
  },
  {
   "cell_type": "code",
   "execution_count": 46,
   "metadata": {
    "collapsed": true
   },
   "outputs": [],
   "source": [
    "m = Basemap(projection='mill',llcrnrlat=LAT_MIN,urcrnrlat=LAT_MAX,llcrnrlon=LONG_MIN,urcrnrlon=LONG_MAX,resolution='h')"
   ]
  },
  {
   "cell_type": "code",
   "execution_count": 47,
   "metadata": {
    "collapsed": true
   },
   "outputs": [],
   "source": [
    "# generar lats, lons\n",
    "x, y = m(lons, lats)\n",
    "\n",
    "# numero de columnas y filas\n",
    "numCols = len(x)\n",
    "numRows = len(y)"
   ]
  },
  {
   "cell_type": "code",
   "execution_count": 49,
   "metadata": {},
   "outputs": [
    {
     "name": "stdout",
     "output_type": "stream",
     "text": [
      "****** Genereate: /Users/jorgemauricio/Documents/Research/proyectoCaborca/maps/so2_2018-01-17.png\n"
     ]
    },
    {
     "data": {
      "image/png": "[encoded data removed]",
      "text/plain": [
       "<matplotlib.figure.Figure at 0x113348c88>"
      ]
     },
     "metadata": {},
     "output_type": "display_data"
    }
   ],
   "source": [
    "# generar xi, yi\n",
    "xi = np.linspace(x.min(), x.max(), numCols)\n",
    "yi = np.linspace(y.min(), y.max(), numRows)\n",
    "\n",
    "# generar el meshgrid\n",
    "xi, yi = np.meshgrid(xi, yi)\n",
    "\n",
    "# generar zi\n",
    "z = np.array(data['Biomass'])\n",
    "zi = gd((x,y), z, (xi,yi), method='cubic')\n",
    "\n",
    "# generar clevs\n",
    "stepVariable = 1\n",
    "step = (z.max() - z.min()) / 10\n",
    "\n",
    "# verificar el valor del intervalo\n",
    "if step <= 1:\n",
    "    stepVariable = 1\n",
    "\n",
    "clevs = np.linspace(z.min(), z.max() + stepVariable , 10)\n",
    "#clevs = [1,2,3,4,5,6,7,8,9,10]\n",
    "\n",
    "#%% contour plot\n",
    "cs = m.contourf(xi,yi,zi, clevs, zorder=5, alpha=0.5, cmap='PuBu')\n",
    "m.readshapefile('../shapes/Estados', 'Estados')\n",
    "\n",
    "#%% colorbar\n",
    "cbar = m.colorbar(cs, location='right', pad=\"5%\")\n",
    "cbar.set_label('pm')\n",
    "tituloTemporalParaElMapa = \"{} {}\".format(nombreParaMapa, \"2018-01-17\")\n",
    "plt.title(tituloTemporalParaElMapa)\n",
    "\n",
    "# Mac /Users/jorgemauricio/Documents/Research/proyectoGranizo/Maps/{}_{}.png\n",
    "# Linux /home/jorge/Documents/Research/proyectoGranizo/Maps/{}_{}.png\n",
    "nombreTemporalParaElMapa = \"/Users/jorgemauricio/Documents/Research/proyectoCaborca/maps/{}_2018-01-17.png\".format(nombreParaMapa)\n",
    "plt.annotate('@2018 INIFAP', xy=(-109,29), xycoords='figure fraction', xytext=(0.45,0.45), color='g', zorder=50)\n",
    "\n",
    "plt.savefig(nombreTemporalParaElMapa, dpi=300)\n",
    "print('****** Genereate: {}'.format(nombreTemporalParaElMapa))"
   ]
  },
  {
   "cell_type": "code",
   "execution_count": null,
   "metadata": {
    "collapsed": true
   },
   "outputs": [],
   "source": []
  }
 ],
 "metadata": {
  "kernelspec": {
   "display_name": "Python 3",
   "language": "python",
   "name": "python3"
  },
  "language_info": {
   "codemirror_mode": {
    "name": "ipython",
    "version": 3
   },
   "file_extension": ".py",
   "mimetype": "text/x-python",
   "name": "python",
   "nbconvert_exporter": "python",
   "pygments_lexer": "ipython3",
   "version": "3.6.4"
  }
 },
 "nbformat": 4,
 "nbformat_minor": 2
}
