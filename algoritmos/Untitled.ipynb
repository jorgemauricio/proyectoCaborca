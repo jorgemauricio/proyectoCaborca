{
 "cells": [
  {
   "cell_type": "code",
   "execution_count": 17,
   "metadata": {
    "collapsed": true
   },
   "outputs": [],
   "source": [
    "# librerias\n",
    "import h5py as h5\n",
    "from pyhdf.SD import SD, SDC\n",
    "import tables\n",
    "import pandas as pd\n",
    "import numpy as np\n",
    "import matplotlib.pyplot as plt\n",
    "from mpl_toolkits.basemap import Basemap\n",
    "from numpy import meshgrid\n",
    "from scipy.interpolate import griddata as gd\n",
    "import os"
   ]
  },
  {
   "cell_type": "code",
   "execution_count": 18,
   "metadata": {
    "collapsed": true
   },
   "outputs": [],
   "source": [
    "file_name = '../data/MYD09CMA.A2018015.006.2018017024441.hdf'\n",
    "#file_lon = '../data/lat_MYD02HKM.output'\n",
    "#file_lat = '../data/lon_MYD02HKM.output'"
   ]
  },
  {
   "cell_type": "code",
   "execution_count": 19,
   "metadata": {
    "collapsed": true
   },
   "outputs": [],
   "source": [
    "file = SD(file_name, SDC.READ)"
   ]
  },
  {
   "cell_type": "code",
   "execution_count": 20,
   "metadata": {},
   "outputs": [
    {
     "name": "stdout",
     "output_type": "stream",
     "text": [
      "(17, 6)\n"
     ]
    }
   ],
   "source": [
    "print (file.info())"
   ]
  },
  {
   "cell_type": "code",
   "execution_count": 21,
   "metadata": {},
   "outputs": [
    {
     "name": "stdout",
     "output_type": "stream",
     "text": [
      "0 Coarse Resolution Surface Reflectance Band 8\n",
      "1 Coarse Resolution Surface Reflectance Band 9\n",
      "2 Coarse Resolution Surface Reflectance Band 10\n",
      "3 Coarse Resolution Surface Reflectance Band 11\n",
      "4 Coarse Resolution Surface Reflectance Band 12\n",
      "5 Coarse Resolution TOA Reflectance Band 1\n",
      "6 Coarse Resolution TOA Reflectance Band 3\n",
      "7 Coarse Resolution TOA Reflectance Band 8\n",
      "8 Coarse Resolution TOA Reflectance Band 9\n",
      "9 Coarse Resolution TOA Reflectance Band 10\n",
      "10 Coarse Resolution AOT Model Residual Values\n",
      "11 Coarse Resolution AOT at 550 nm\n",
      "12 Coarse Resolution Atmospheric Optical Depth Model\n",
      "13 Coarse Resolution Water Vapor\n",
      "14 Coarse Resolution Air Temperature (2m)\n",
      "15 Coarse Resolution Atmospheric Optical Depth QA\n",
      "16 Coarse Resolution Number Mapping AOT\n"
     ]
    }
   ],
   "source": [
    "datasets_dic = file.datasets()\n",
    "\n",
    "for idx,sds in enumerate(datasets_dic.keys()):\n",
    "    print (idx,sds)"
   ]
  },
  {
   "cell_type": "code",
   "execution_count": 22,
   "metadata": {},
   "outputs": [
    {
     "name": "stdout",
     "output_type": "stream",
     "text": [
      "[[127 127 127 ..., 127 127 127]\n",
      " [127 127 127 ..., 127 127 127]\n",
      " [127 127 127 ..., 127 127 127]\n",
      " ..., \n",
      " [127  10  10 ...,  10  10  10]\n",
      " [127  10  10 ...,  10  10  10]\n",
      " [127  10  10 ...,  10  10  10]]\n"
     ]
    }
   ],
   "source": [
    "sds_obj = file.select('Coarse Resolution Atmospheric Optical Depth QA') # select sds\n",
    "\n",
    "data = sds_obj.get() # get sds data\n",
    "print (data)"
   ]
  },
  {
   "cell_type": "code",
   "execution_count": 23,
   "metadata": {},
   "outputs": [
    {
     "name": "stdout",
     "output_type": "stream",
     "text": [
      "{'QA index': '\\n'\n",
      "             '\\tNot bitmapped, but with the following values:\\n'\n",
      "             '\\t0      inital value;\\n'\n",
      "             '\\t1      None of the 500m pixels that correspond to this 1km '\n",
      "             'pixel \\n'\n",
      "             '\\t         has data that reaches either criteria for containing '\n",
      "             'aerosols;\\n'\n",
      "             '\\t2      Pixel is over water;\\n'\n",
      "             '\\t3      One or more of the retrieved aerosol values has '\n",
      "             'saturated\\n'\n",
      "             '\\t         (and then all are set to a fill value);\\n'\n",
      "             '\\t4      Pixel is cloudy or mixed or has a high band 26 value;\\n'\n",
      "             '\\t5      Pixel had been flagged as water, but also had positive '\n",
      "             'NDVI;\\n'\n",
      "             '\\t6      Pixel is flagged as water and tests clear;\\n'\n",
      "             '\\t7      Pixel is flagged as water and tests for turbidity;\\n'\n",
      "             '\\t8      Snow (set in aot_filter());\\n'\n",
      "             '\\t9      Bad geolocation, or high solar zenith;\\n'\n",
      "             '\\t10     Snow, or sunglint, or fire;\\n'\n",
      "             '\\t11     Bad 500m data, no aerosol retrieval;\\n'\n",
      "             '\\t12     Subpixel cloud (set in aot_filter());\\n'\n",
      "             '\\t13     Aerosol retrieval anomalies;\\n'\n",
      "             '\\t14     Possible salt-pan;\\n'\n",
      "             '\\t15     Desert;\\n'\n",
      "             '\\t16     Aerosol retrieval rejection (from '\n",
      "             'global_AOTR_rejection_mask.hdf);\\n'\n",
      "             '\\t17     Anomalous atmospheric correction in 500m cloud test;\\n'\n",
      "             '\\t18     AOT set to zero in routine check_correction();\\n'\n",
      "             '\\t19     Adjacent to cloud;\\n'\n",
      "             '\\t20     Anomalous atmospheric correction in 500m cloud test '\n",
      "             '(b1/b3 over 2.0);\\n'\n",
      "             '\\t21     Flagged as clear in third pass of cloudmasking;\\n'\n",
      "             '\\t22     Flagged as cloudy in third pass of cloudmasking;\\n'\n",
      "             '\\t127     Fill value (no data)\\n',\n",
      " '_FillValue': 127,\n",
      " 'long_name': 'Coarse Resolution Atmospheric Optical Depth QA',\n",
      " 'units': '(unitless)',\n",
      " 'valid_range': [0, 19]}\n"
     ]
    }
   ],
   "source": [
    "import pprint\n",
    "pprint.pprint(sds_obj.attributes())"
   ]
  },
  {
   "cell_type": "code",
   "execution_count": 24,
   "metadata": {},
   "outputs": [
    {
     "name": "stdout",
     "output_type": "stream",
     "text": [
      "_FillValue 127\n",
      "valid_range [0, 19]\n",
      "units (unitless)\n",
      "long_name Coarse Resolution Atmospheric Optical Depth QA\n",
      "QA index \n",
      "\tNot bitmapped, but with the following values:\n",
      "\t0      inital value;\n",
      "\t1      None of the 500m pixels that correspond to this 1km pixel \n",
      "\t         has data that reaches either criteria for containing aerosols;\n",
      "\t2      Pixel is over water;\n",
      "\t3      One or more of the retrieved aerosol values has saturated\n",
      "\t         (and then all are set to a fill value);\n",
      "\t4      Pixel is cloudy or mixed or has a high band 26 value;\n",
      "\t5      Pixel had been flagged as water, but also had positive NDVI;\n",
      "\t6      Pixel is flagged as water and tests clear;\n",
      "\t7      Pixel is flagged as water and tests for turbidity;\n",
      "\t8      Snow (set in aot_filter());\n",
      "\t9      Bad geolocation, or high solar zenith;\n",
      "\t10     Snow, or sunglint, or fire;\n",
      "\t11     Bad 500m data, no aerosol retrieval;\n",
      "\t12     Subpixel cloud (set in aot_filter());\n",
      "\t13     Aerosol retrieval anomalies;\n",
      "\t14     Possible salt-pan;\n",
      "\t15     Desert;\n",
      "\t16     Aerosol retrieval rejection (from global_AOTR_rejection_mask.hdf);\n",
      "\t17     Anomalous atmospheric correction in 500m cloud test;\n",
      "\t18     AOT set to zero in routine check_correction();\n",
      "\t19     Adjacent to cloud;\n",
      "\t20     Anomalous atmospheric correction in 500m cloud test (b1/b3 over 2.0);\n",
      "\t21     Flagged as clear in third pass of cloudmasking;\n",
      "\t22     Flagged as cloudy in third pass of cloudmasking;\n",
      "\t127     Fill value (no data)\n",
      "\n"
     ]
    }
   ],
   "source": [
    "for key, value in sds_obj.attributes().items():\n",
    "    print (key, value)\n",
    "    if key == 'add_offset':\n",
    "        add_offset = value  \n",
    "    if key == 'scale_factor':\n",
    "        scale_factor = value"
   ]
  },
  {
   "cell_type": "code",
   "execution_count": 25,
   "metadata": {},
   "outputs": [
    {
     "name": "stdout",
     "output_type": "stream",
     "text": [
      "[[ 12700.  12700.  12700. ...,  12700.  12700.  12700.]\n",
      " [ 12700.  12700.  12700. ...,  12700.  12700.  12700.]\n",
      " [ 12700.  12700.  12700. ...,  12700.  12700.  12700.]\n",
      " ..., \n",
      " [ 12700.   1000.   1000. ...,   1000.   1000.   1000.]\n",
      " [ 12700.   1000.   1000. ...,   1000.   1000.   1000.]\n",
      " [ 12700.   1000.   1000. ...,   1000.   1000.   1000.]]\n"
     ]
    }
   ],
   "source": [
    "data = (data - add_offset) * scale_factor\n",
    "print (data)"
   ]
  },
  {
   "cell_type": "code",
   "execution_count": 31,
   "metadata": {},
   "outputs": [
    {
     "data": {
      "text/plain": [
       "(3600, 7200)"
      ]
     },
     "execution_count": 31,
     "metadata": {},
     "output_type": "execute_result"
    }
   ],
   "source": [
    "data.shape"
   ]
  },
  {
   "cell_type": "code",
   "execution_count": 27,
   "metadata": {
    "collapsed": true
   },
   "outputs": [],
   "source": [
    "DATAFIELD_NAME = 'Coarse Resolution Atmospheric Optical Depth QA'"
   ]
  },
  {
   "cell_type": "code",
   "execution_count": 28,
   "metadata": {
    "collapsed": true
   },
   "outputs": [],
   "source": [
    "data3d = file.select(DATAFIELD_NAME)"
   ]
  },
  {
   "cell_type": "code",
   "execution_count": 29,
   "metadata": {},
   "outputs": [
    {
     "ename": "HDF4Error",
     "evalue": "('get', 0, 'indexing expression exceeds variable number of dimensions')",
     "output_type": "error",
     "traceback": [
      "\u001b[0;31m---------------------------------------------------------------------------\u001b[0m",
      "\u001b[0;31mHDF4Error\u001b[0m                                 Traceback (most recent call last)",
      "\u001b[0;32m<ipython-input-29-61eb4853d9a0>\u001b[0m in \u001b[0;36m<module>\u001b[0;34m()\u001b[0m\n\u001b[0;32m----> 1\u001b[0;31m \u001b[0mdata\u001b[0m \u001b[0;34m=\u001b[0m \u001b[0mdata3d\u001b[0m\u001b[0;34m[\u001b[0m\u001b[0;36m11\u001b[0m\u001b[0;34m,\u001b[0m\u001b[0;34m:\u001b[0m\u001b[0;34m,\u001b[0m\u001b[0;34m:\u001b[0m\u001b[0;34m]\u001b[0m\u001b[0;34m\u001b[0m\u001b[0m\n\u001b[0m",
      "\u001b[0;32m~/anaconda/lib/python3.6/site-packages/pyhdf/SD.py\u001b[0m in \u001b[0;36m__getitem__\u001b[0;34m(self, elem)\u001b[0m\n\u001b[1;32m   1810\u001b[0m \u001b[0;34m\u001b[0m\u001b[0m\n\u001b[1;32m   1811\u001b[0m         \u001b[0;31m# Compute arguments to 'SDreaddata_0()'.\u001b[0m\u001b[0;34m\u001b[0m\u001b[0;34m\u001b[0m\u001b[0m\n\u001b[0;32m-> 1812\u001b[0;31m         \u001b[0mstart\u001b[0m\u001b[0;34m,\u001b[0m \u001b[0mcount\u001b[0m\u001b[0;34m,\u001b[0m \u001b[0mstride\u001b[0m \u001b[0;34m=\u001b[0m \u001b[0mself\u001b[0m\u001b[0;34m.\u001b[0m\u001b[0m__buildStartCountStride\u001b[0m\u001b[0;34m(\u001b[0m\u001b[0melem\u001b[0m\u001b[0;34m)\u001b[0m\u001b[0;34m\u001b[0m\u001b[0m\n\u001b[0m\u001b[1;32m   1813\u001b[0m         \u001b[0;31m# Get elements.\u001b[0m\u001b[0;34m\u001b[0m\u001b[0;34m\u001b[0m\u001b[0m\n\u001b[1;32m   1814\u001b[0m         \u001b[0;32mreturn\u001b[0m \u001b[0mself\u001b[0m\u001b[0;34m.\u001b[0m\u001b[0mget\u001b[0m\u001b[0;34m(\u001b[0m\u001b[0mstart\u001b[0m\u001b[0;34m,\u001b[0m \u001b[0mcount\u001b[0m\u001b[0;34m,\u001b[0m \u001b[0mstride\u001b[0m\u001b[0;34m)\u001b[0m\u001b[0;34m\u001b[0m\u001b[0m\n",
      "\u001b[0;32m~/anaconda/lib/python3.6/site-packages/pyhdf/SD.py\u001b[0m in \u001b[0;36m__buildStartCountStride\u001b[0;34m(self, elem)\u001b[0m\n\u001b[1;32m   2034\u001b[0m             \u001b[0;32mif\u001b[0m \u001b[0mlen\u001b[0m\u001b[0;34m(\u001b[0m\u001b[0melem\u001b[0m\u001b[0;34m)\u001b[0m \u001b[0;34m>\u001b[0m \u001b[0mnDims\u001b[0m\u001b[0;34m:\u001b[0m\u001b[0;34m\u001b[0m\u001b[0m\n\u001b[1;32m   2035\u001b[0m                 raise HDF4Error(\"get\", 0,\n\u001b[0;32m-> 2036\u001b[0;31m                                \u001b[0;34m\"indexing expression exceeds variable \"\u001b[0m\u001b[0;34m\u001b[0m\u001b[0m\n\u001b[0m\u001b[1;32m   2037\u001b[0m                                \"number of dimensions\")\n\u001b[1;32m   2038\u001b[0m         \u001b[0;32melse\u001b[0m\u001b[0;34m:\u001b[0m   \u001b[0;31m# Convert single index to sequence\u001b[0m\u001b[0;34m\u001b[0m\u001b[0m\n",
      "\u001b[0;31mHDF4Error\u001b[0m: ('get', 0, 'indexing expression exceeds variable number of dimensions')"
     ]
    }
   ],
   "source": [
    "data = data3d[11,:,:]"
   ]
  },
  {
   "cell_type": "code",
   "execution_count": null,
   "metadata": {
    "collapsed": true
   },
   "outputs": [],
   "source": []
  }
 ],
 "metadata": {
  "kernelspec": {
   "display_name": "Python 3",
   "language": "python",
   "name": "python3"
  },
  "language_info": {
   "codemirror_mode": {
    "name": "ipython",
    "version": 3
   },
   "file_extension": ".py",
   "mimetype": "text/x-python",
   "name": "python",
   "nbconvert_exporter": "python",
   "pygments_lexer": "ipython3",
   "version": "3.6.4"
  }
 },
 "nbformat": 4,
 "nbformat_minor": 2
}
