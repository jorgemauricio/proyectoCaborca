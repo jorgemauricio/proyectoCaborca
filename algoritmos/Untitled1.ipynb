{
 "cells": [
  {
   "cell_type": "code",
   "execution_count": 30,
   "metadata": {
    "collapsed": true
   },
   "outputs": [],
   "source": [
    "# librerias\n",
    "import h5py as h5\n",
    "from pyhdf.SD import SD, SDC\n",
    "import tables\n",
    "import pandas as pd\n",
    "import numpy as np\n",
    "import matplotlib.pyplot as plt\n",
    "from mpl_toolkits.basemap import Basemap\n",
    "from numpy import meshgrid\n",
    "from scipy.interpolate import griddata as gd\n",
    "import os\n",
    "%matplotlib inline"
   ]
  },
  {
   "cell_type": "code",
   "execution_count": 2,
   "metadata": {
    "collapsed": true
   },
   "outputs": [],
   "source": [
    "file_name = '../data/MYD09CMA.A2018015.006.2018017024441.hdf'"
   ]
  },
  {
   "cell_type": "code",
   "execution_count": 6,
   "metadata": {},
   "outputs": [],
   "source": [
    "file = SD(file_name, SDC.READ)"
   ]
  },
  {
   "cell_type": "code",
   "execution_count": 7,
   "metadata": {},
   "outputs": [
    {
     "name": "stdout",
     "output_type": "stream",
     "text": [
      "(17, 6)\n"
     ]
    }
   ],
   "source": [
    "print(file.info())"
   ]
  },
  {
   "cell_type": "code",
   "execution_count": 8,
   "metadata": {},
   "outputs": [
    {
     "name": "stdout",
     "output_type": "stream",
     "text": [
      "0 Coarse Resolution Surface Reflectance Band 8\n",
      "1 Coarse Resolution Surface Reflectance Band 9\n",
      "2 Coarse Resolution Surface Reflectance Band 10\n",
      "3 Coarse Resolution Surface Reflectance Band 11\n",
      "4 Coarse Resolution Surface Reflectance Band 12\n",
      "5 Coarse Resolution TOA Reflectance Band 1\n",
      "6 Coarse Resolution TOA Reflectance Band 3\n",
      "7 Coarse Resolution TOA Reflectance Band 8\n",
      "8 Coarse Resolution TOA Reflectance Band 9\n",
      "9 Coarse Resolution TOA Reflectance Band 10\n",
      "10 Coarse Resolution AOT Model Residual Values\n",
      "11 Coarse Resolution AOT at 550 nm\n",
      "12 Coarse Resolution Atmospheric Optical Depth Model\n",
      "13 Coarse Resolution Water Vapor\n",
      "14 Coarse Resolution Air Temperature (2m)\n",
      "15 Coarse Resolution Atmospheric Optical Depth QA\n",
      "16 Coarse Resolution Number Mapping AOT\n"
     ]
    }
   ],
   "source": [
    "datasets_dic = file.datasets()\n",
    "\n",
    "for idx,sds in enumerate(datasets_dic.keys()):\n",
    "    print (idx,sds)"
   ]
  },
  {
   "cell_type": "code",
   "execution_count": 69,
   "metadata": {},
   "outputs": [
    {
     "name": "stdout",
     "output_type": "stream",
     "text": [
      "[[    0     0     0 ...,     0     0     0]\n",
      " [    0     0     0 ...,     0     0     0]\n",
      " [    0     0     0 ...,     0     0     0]\n",
      " ..., \n",
      " [    0 24669 24669 ..., 24335 24335 24679]\n",
      " [    0 24812 24812 ..., 24703 24703 24703]\n",
      " [    0 24691 24691 ..., 24724 24724 24724]]\n"
     ]
    }
   ],
   "source": [
    "sds_obj = file.select('Coarse Resolution Air Temperature (2m)') # select sds\n",
    "\n",
    "data = sds_obj.get() # get sds data\n",
    "print (data)"
   ]
  },
  {
   "cell_type": "code",
   "execution_count": 70,
   "metadata": {},
   "outputs": [
    {
     "name": "stdout",
     "output_type": "stream",
     "text": [
      "{'_FillValue': 0,\n",
      " 'add_offset': 0.0,\n",
      " 'add_offset_err': 0.0,\n",
      " 'calibrated_nt': 5,\n",
      " 'long_name': 'Coarse Resolution Air Temperature (2m)',\n",
      " 'scale_factor': 100.0,\n",
      " 'scale_factor_err': 0.0,\n",
      " 'units': 'degrees K',\n",
      " 'valid_range': [0, 40000]}\n"
     ]
    }
   ],
   "source": [
    "import pprint\n",
    "pprint.pprint(sds_obj.attributes())"
   ]
  },
  {
   "cell_type": "code",
   "execution_count": 71,
   "metadata": {},
   "outputs": [
    {
     "name": "stdout",
     "output_type": "stream",
     "text": [
      "_FillValue 0\n",
      "valid_range [0, 40000]\n",
      "scale_factor 100.0\n",
      "scale_factor_err 0.0\n",
      "add_offset 0.0\n",
      "add_offset_err 0.0\n",
      "calibrated_nt 5\n",
      "units degrees K\n",
      "long_name Coarse Resolution Air Temperature (2m)\n"
     ]
    }
   ],
   "source": [
    "for key, value in sds_obj.attributes().items():\n",
    "    print (key, value)\n",
    "    if key == 'add_offset':\n",
    "        add_offset = value  \n",
    "    if key == 'scale_factor':\n",
    "        scale_factor = value"
   ]
  },
  {
   "cell_type": "code",
   "execution_count": 72,
   "metadata": {},
   "outputs": [
    {
     "name": "stdout",
     "output_type": "stream",
     "text": [
      "[[       0.        0.        0. ...,        0.        0.        0.]\n",
      " [       0.        0.        0. ...,        0.        0.        0.]\n",
      " [       0.        0.        0. ...,        0.        0.        0.]\n",
      " ..., \n",
      " [       0.  2466900.  2466900. ...,  2433500.  2433500.  2467900.]\n",
      " [       0.  2481200.  2481200. ...,  2470300.  2470300.  2470300.]\n",
      " [       0.  2469100.  2469100. ...,  2472400.  2472400.  2472400.]]\n"
     ]
    }
   ],
   "source": [
    "data = (data - add_offset) * scale_factor\n",
    "print (data)"
   ]
  },
  {
   "cell_type": "code",
   "execution_count": 73,
   "metadata": {},
   "outputs": [
    {
     "data": {
      "text/plain": [
       "(3600, 7200)"
      ]
     },
     "execution_count": 73,
     "metadata": {},
     "output_type": "execute_result"
    }
   ],
   "source": [
    "data.shape"
   ]
  },
  {
   "cell_type": "code",
   "execution_count": 74,
   "metadata": {
    "collapsed": true
   },
   "outputs": [],
   "source": [
    "DATAFIELD_NAME = 'Coarse Resolution Air Temperature (2m)'"
   ]
  },
  {
   "cell_type": "code",
   "execution_count": 75,
   "metadata": {
    "collapsed": true
   },
   "outputs": [],
   "source": [
    "x = np.linspace(-180,180, data.shape[1])"
   ]
  },
  {
   "cell_type": "code",
   "execution_count": 76,
   "metadata": {
    "collapsed": true
   },
   "outputs": [],
   "source": [
    "y = np.linspace(-90,90, data.shape[0])"
   ]
  },
  {
   "cell_type": "code",
   "execution_count": 77,
   "metadata": {},
   "outputs": [
    {
     "data": {
      "text/plain": [
       "(7200,)"
      ]
     },
     "execution_count": 77,
     "metadata": {},
     "output_type": "execute_result"
    }
   ],
   "source": [
    "x.shape"
   ]
  },
  {
   "cell_type": "code",
   "execution_count": 78,
   "metadata": {},
   "outputs": [
    {
     "data": {
      "text/plain": [
       "(3600,)"
      ]
     },
     "execution_count": 78,
     "metadata": {},
     "output_type": "execute_result"
    }
   ],
   "source": [
    "y.shape"
   ]
  },
  {
   "cell_type": "code",
   "execution_count": 79,
   "metadata": {
    "collapsed": true
   },
   "outputs": [],
   "source": [
    "# constantes\n",
    "LONG_MIN = -115.65\n",
    "LONG_MAX = -107.94\n",
    "LAT_MIN = 25.41\n",
    "LAT_MAX = 33.06"
   ]
  },
  {
   "cell_type": "code",
   "execution_count": 80,
   "metadata": {},
   "outputs": [],
   "source": [
    "m = Basemap(projection='cyl', resolution='l',\n",
    "                llcrnrlat=-90, urcrnrlat=90, llcrnrlon=-180, urcrnrlon=180)"
   ]
  },
  {
   "cell_type": "code",
   "execution_count": 81,
   "metadata": {},
   "outputs": [],
   "source": [
    "lons, lats = m(x,y)"
   ]
  },
  {
   "cell_type": "code",
   "execution_count": 82,
   "metadata": {},
   "outputs": [
    {
     "data": {
      "text/plain": [
       "(7200,)"
      ]
     },
     "execution_count": 82,
     "metadata": {},
     "output_type": "execute_result"
    }
   ],
   "source": [
    "lons.shape"
   ]
  },
  {
   "cell_type": "code",
   "execution_count": 83,
   "metadata": {},
   "outputs": [
    {
     "data": {
      "image/png": "[encoded data removed]",
      "text/plain": [
       "<matplotlib.figure.Figure at 0x12400a550>"
      ]
     },
     "metadata": {},
     "output_type": "display_data"
    }
   ],
   "source": [
    "# work\n",
    "\"\"\"\n",
    "m.drawcoastlines(linewidth=0.5)\n",
    "m.pcolormesh(lons, lats, data)\n",
    "\"\"\"\n",
    "clevs = np.linspace(data.min(), data.max(), 20)\n",
    "\n",
    "cs = m.pcolormesh(lons, lats, data, latlon=True)\n",
    "\n",
    "cbar = m.colorbar(cs, location='right', pad=\"5%\")\n",
    "cbar.set_label('pm')\n",
    "\n",
    "m.readshapefile('../shapes/Estados', 'Estados')\n",
    "\n",
    "plt.savefig(\"test.png\", dpi=300)\n"
   ]
  },
  {
   "cell_type": "code",
   "execution_count": 88,
   "metadata": {},
   "outputs": [
    {
     "data": {
      "text/plain": [
       "2872300.0"
      ]
     },
     "execution_count": 88,
     "metadata": {},
     "output_type": "execute_result"
    }
   ],
   "source": [
    "data[1000,1000]"
   ]
  },
  {
   "cell_type": "code",
   "execution_count": 47,
   "metadata": {},
   "outputs": [
    {
     "data": {
      "text/plain": [
       "127"
      ]
     },
     "execution_count": 47,
     "metadata": {},
     "output_type": "execute_result"
    }
   ],
   "source": [
    "\n"
   ]
  },
  {
   "cell_type": "code",
   "execution_count": null,
   "metadata": {
    "collapsed": true
   },
   "outputs": [],
   "source": []
  }
 ],
 "metadata": {
  "kernelspec": {
   "display_name": "Python 3",
   "language": "python",
   "name": "python3"
  },
  "language_info": {
   "codemirror_mode": {
    "name": "ipython",
    "version": 3
   },
   "file_extension": ".py",
   "mimetype": "text/x-python",
   "name": "python",
   "nbconvert_exporter": "python",
   "pygments_lexer": "ipython3",
   "version": "3.6.4"
  }
 },
 "nbformat": 4,
 "nbformat_minor": 2
}
