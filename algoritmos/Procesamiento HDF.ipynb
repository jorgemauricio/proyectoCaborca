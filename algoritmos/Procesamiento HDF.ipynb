{
 "cells": [
  {
   "cell_type": "code",
   "execution_count": 37,
   "metadata": {
    "collapsed": true
   },
   "outputs": [],
   "source": [
    "# librerias\n",
    "import h5py as h5\n",
    "from pyhdf.SD import SD, SDC\n",
    "import tables\n",
    "import pandas as pd\n",
    "import numpy as np\n",
    "import matplotlib.pyplot as plt\n",
    "from mpl_toolkits.basemap import Basemap\n",
    "from numpy import meshgrid\n",
    "from scipy.interpolate import griddata as gd\n",
    "import os\n",
    "%matplotlib inline"
   ]
  },
  {
   "cell_type": "code",
   "execution_count": 38,
   "metadata": {
    "collapsed": true
   },
   "outputs": [],
   "source": [
    "# nombre del archivo\n",
    "file_name = '../data/MYD09CMA.A2018015.006.2018017024441.hdf'\n",
    "\n",
    "# nombre del dataset\n",
    "DATASET = 'Coarse Resolution Atmospheric Optical Depth QA'\n",
    "\n",
    "# constantes Caborca\n",
    "LONG_MIN = -115.65\n",
    "LONG_MAX = -107.94\n",
    "LAT_MIN = 25.41\n",
    "LAT_MAX = 33.06"
   ]
  },
  {
   "cell_type": "code",
   "execution_count": 39,
   "metadata": {
    "collapsed": true
   },
   "outputs": [],
   "source": [
    "# leer archivo\n",
    "file = SD(file_name, SDC.READ)"
   ]
  },
  {
   "cell_type": "code",
   "execution_count": 40,
   "metadata": {},
   "outputs": [
    {
     "name": "stdout",
     "output_type": "stream",
     "text": [
      "0 Coarse Resolution Surface Reflectance Band 8\n",
      "1 Coarse Resolution Surface Reflectance Band 9\n",
      "2 Coarse Resolution Surface Reflectance Band 10\n",
      "3 Coarse Resolution Surface Reflectance Band 11\n",
      "4 Coarse Resolution Surface Reflectance Band 12\n",
      "5 Coarse Resolution TOA Reflectance Band 1\n",
      "6 Coarse Resolution TOA Reflectance Band 3\n",
      "7 Coarse Resolution TOA Reflectance Band 8\n",
      "8 Coarse Resolution TOA Reflectance Band 9\n",
      "9 Coarse Resolution TOA Reflectance Band 10\n",
      "10 Coarse Resolution AOT Model Residual Values\n",
      "11 Coarse Resolution AOT at 550 nm\n",
      "12 Coarse Resolution Atmospheric Optical Depth Model\n",
      "13 Coarse Resolution Water Vapor\n",
      "14 Coarse Resolution Air Temperature (2m)\n",
      "15 Coarse Resolution Atmospheric Optical Depth QA\n",
      "16 Coarse Resolution Number Mapping AOT\n"
     ]
    }
   ],
   "source": [
    "# datasets\n",
    "datasets_dic = file.datasets()\n",
    "\n",
    "for idx,sds in enumerate(datasets_dic.keys()):\n",
    "    print (idx,sds)"
   ]
  },
  {
   "cell_type": "code",
   "execution_count": 41,
   "metadata": {},
   "outputs": [
    {
     "name": "stdout",
     "output_type": "stream",
     "text": [
      "[[127 127 127 ..., 127 127 127]\n",
      " [127 127 127 ..., 127 127 127]\n",
      " [127 127 127 ..., 127 127 127]\n",
      " ..., \n",
      " [127  10  10 ...,  10  10  10]\n",
      " [127  10  10 ...,  10  10  10]\n",
      " [127  10  10 ...,  10  10  10]]\n"
     ]
    }
   ],
   "source": [
    "sds_obj = file.select(DATASET) # select sds\n",
    "\n",
    "data = sds_obj.get() # get sds data\n",
    "print (data)"
   ]
  },
  {
   "cell_type": "code",
   "execution_count": 42,
   "metadata": {},
   "outputs": [
    {
     "name": "stdout",
     "output_type": "stream",
     "text": [
      "{'QA index': '\\n'\n",
      "             '\\tNot bitmapped, but with the following values:\\n'\n",
      "             '\\t0      inital value;\\n'\n",
      "             '\\t1      None of the 500m pixels that correspond to this 1km '\n",
      "             'pixel \\n'\n",
      "             '\\t         has data that reaches either criteria for containing '\n",
      "             'aerosols;\\n'\n",
      "             '\\t2      Pixel is over water;\\n'\n",
      "             '\\t3      One or more of the retrieved aerosol values has '\n",
      "             'saturated\\n'\n",
      "             '\\t         (and then all are set to a fill value);\\n'\n",
      "             '\\t4      Pixel is cloudy or mixed or has a high band 26 value;\\n'\n",
      "             '\\t5      Pixel had been flagged as water, but also had positive '\n",
      "             'NDVI;\\n'\n",
      "             '\\t6      Pixel is flagged as water and tests clear;\\n'\n",
      "             '\\t7      Pixel is flagged as water and tests for turbidity;\\n'\n",
      "             '\\t8      Snow (set in aot_filter());\\n'\n",
      "             '\\t9      Bad geolocation, or high solar zenith;\\n'\n",
      "             '\\t10     Snow, or sunglint, or fire;\\n'\n",
      "             '\\t11     Bad 500m data, no aerosol retrieval;\\n'\n",
      "             '\\t12     Subpixel cloud (set in aot_filter());\\n'\n",
      "             '\\t13     Aerosol retrieval anomalies;\\n'\n",
      "             '\\t14     Possible salt-pan;\\n'\n",
      "             '\\t15     Desert;\\n'\n",
      "             '\\t16     Aerosol retrieval rejection (from '\n",
      "             'global_AOTR_rejection_mask.hdf);\\n'\n",
      "             '\\t17     Anomalous atmospheric correction in 500m cloud test;\\n'\n",
      "             '\\t18     AOT set to zero in routine check_correction();\\n'\n",
      "             '\\t19     Adjacent to cloud;\\n'\n",
      "             '\\t20     Anomalous atmospheric correction in 500m cloud test '\n",
      "             '(b1/b3 over 2.0);\\n'\n",
      "             '\\t21     Flagged as clear in third pass of cloudmasking;\\n'\n",
      "             '\\t22     Flagged as cloudy in third pass of cloudmasking;\\n'\n",
      "             '\\t127     Fill value (no data)\\n',\n",
      " '_FillValue': 127,\n",
      " 'long_name': 'Coarse Resolution Atmospheric Optical Depth QA',\n",
      " 'units': '(unitless)',\n",
      " 'valid_range': [0, 19]}\n"
     ]
    }
   ],
   "source": [
    "# atributos\n",
    "import pprint\n",
    "pprint.pprint(sds_obj.attributes())"
   ]
  },
  {
   "cell_type": "code",
   "execution_count": 43,
   "metadata": {},
   "outputs": [
    {
     "name": "stdout",
     "output_type": "stream",
     "text": [
      "_FillValue 127\n",
      "valid_range [0, 19]\n",
      "units (unitless)\n",
      "long_name Coarse Resolution Atmospheric Optical Depth QA\n",
      "QA index \n",
      "\tNot bitmapped, but with the following values:\n",
      "\t0      inital value;\n",
      "\t1      None of the 500m pixels that correspond to this 1km pixel \n",
      "\t         has data that reaches either criteria for containing aerosols;\n",
      "\t2      Pixel is over water;\n",
      "\t3      One or more of the retrieved aerosol values has saturated\n",
      "\t         (and then all are set to a fill value);\n",
      "\t4      Pixel is cloudy or mixed or has a high band 26 value;\n",
      "\t5      Pixel had been flagged as water, but also had positive NDVI;\n",
      "\t6      Pixel is flagged as water and tests clear;\n",
      "\t7      Pixel is flagged as water and tests for turbidity;\n",
      "\t8      Snow (set in aot_filter());\n",
      "\t9      Bad geolocation, or high solar zenith;\n",
      "\t10     Snow, or sunglint, or fire;\n",
      "\t11     Bad 500m data, no aerosol retrieval;\n",
      "\t12     Subpixel cloud (set in aot_filter());\n",
      "\t13     Aerosol retrieval anomalies;\n",
      "\t14     Possible salt-pan;\n",
      "\t15     Desert;\n",
      "\t16     Aerosol retrieval rejection (from global_AOTR_rejection_mask.hdf);\n",
      "\t17     Anomalous atmospheric correction in 500m cloud test;\n",
      "\t18     AOT set to zero in routine check_correction();\n",
      "\t19     Adjacent to cloud;\n",
      "\t20     Anomalous atmospheric correction in 500m cloud test (b1/b3 over 2.0);\n",
      "\t21     Flagged as clear in third pass of cloudmasking;\n",
      "\t22     Flagged as cloudy in third pass of cloudmasking;\n",
      "\t127     Fill value (no data)\n",
      "\n"
     ]
    }
   ],
   "source": [
    "for key, value in sds_obj.attributes().items():\n",
    "    print (key, value)\n",
    "    if key == 'add_offset':\n",
    "        add_offset = value  \n",
    "    if key == 'scale_factor':\n",
    "        scale_factor = value"
   ]
  },
  {
   "cell_type": "code",
   "execution_count": 44,
   "metadata": {},
   "outputs": [],
   "source": [
    "# generar valores para x y y\n",
    "x = np.linspace(-180,180, data.shape[1])\n",
    "y = np.linspace(-90,90, data.shape[0])"
   ]
  },
  {
   "cell_type": "code",
   "execution_count": 45,
   "metadata": {},
   "outputs": [],
   "source": [
    "# generar dataFrame\n",
    "xi = []\n",
    "yi = []\n",
    "zi = []\n",
    "\n",
    "for i in range(len(x)):\n",
    "    for j in range(len(y)):\n",
    "        xi.append(x[i])\n",
    "        yi.append(y[j])\n",
    "        zi.append(data[j,i])"
   ]
  },
  {
   "cell_type": "code",
   "execution_count": 46,
   "metadata": {},
   "outputs": [
    {
     "data": {
      "text/plain": [
       "25920000"
      ]
     },
     "execution_count": 46,
     "metadata": {},
     "output_type": "execute_result"
    }
   ],
   "source": [
    "len(xi)\n",
    "len(yi)\n",
    "len(zi)"
   ]
  },
  {
   "cell_type": "code",
   "execution_count": 47,
   "metadata": {},
   "outputs": [],
   "source": [
    "arr = np.stack((xi,yi,zi), axis=1)"
   ]
  },
  {
   "cell_type": "code",
   "execution_count": 48,
   "metadata": {
    "collapsed": true
   },
   "outputs": [],
   "source": [
    "cols = ['lon', 'lat', 'value']"
   ]
  },
  {
   "cell_type": "code",
   "execution_count": 49,
   "metadata": {
    "collapsed": true
   },
   "outputs": [],
   "source": [
    "df = pd.DataFrame(arr, columns=cols)"
   ]
  },
  {
   "cell_type": "code",
   "execution_count": 50,
   "metadata": {},
   "outputs": [
    {
     "name": "stdout",
     "output_type": "stream",
     "text": [
      "<class 'pandas.core.frame.DataFrame'>\n",
      "RangeIndex: 25920000 entries, 0 to 25919999\n",
      "Data columns (total 3 columns):\n",
      "lon      float64\n",
      "lat      float64\n",
      "value    float64\n",
      "dtypes: float64(3)\n",
      "memory usage: 593.3 MB\n"
     ]
    }
   ],
   "source": [
    "df.info()"
   ]
  },
  {
   "cell_type": "code",
   "execution_count": 51,
   "metadata": {},
   "outputs": [],
   "source": [
    "# limites longitud > -115.65 y < -107.94\n",
    "df = df.loc[df['lon'] > LONG_MIN]\n",
    "df = df.loc[df['lon'] < LONG_MAX]\n",
    "\n",
    "# limites latitud > 25.41 y < 33.06\n",
    "df = df.loc[df['lat'] > LAT_MIN]\n",
    "df = df.loc[df['lat'] < LAT_MAX]\n",
    "\n",
    "# obtener valores de x, y\n",
    "lons = np.array(df['lon'])\n",
    "lats = np.array(df['lat'])"
   ]
  },
  {
   "cell_type": "code",
   "execution_count": 52,
   "metadata": {},
   "outputs": [
    {
     "data": {
      "text/plain": [
       "23562"
      ]
     },
     "execution_count": 52,
     "metadata": {},
     "output_type": "execute_result"
    }
   ],
   "source": [
    "len(lons)"
   ]
  },
  {
   "cell_type": "code",
   "execution_count": 53,
   "metadata": {},
   "outputs": [],
   "source": [
    "m = Basemap(projection='mill',llcrnrlat=LAT_MIN,urcrnrlat=LAT_MAX,llcrnrlon=LONG_MIN,urcrnrlon=LONG_MAX,resolution='h')\n",
    "\n",
    "# generar lats, lons\n",
    "x, y = m(lons, lats)\n",
    "\n",
    "# numero de columnas y filas\n",
    "numCols = len(x)\n",
    "numRows = len(y)\n",
    "\n",
    "# generar xi, yi\n",
    "xi = np.linspace(x.min(), x.max(), 100)\n",
    "yi = np.linspace(y.min(), y.max(), 100)\n",
    "\n",
    "# generar el meshgrid\n",
    "xi, yi = np.meshgrid(xi, yi)\n",
    "\n",
    "# generar zi\n",
    "z = np.array(df['value'])\n",
    "zi = gd((x,y), z, (xi,yi), method='cubic')"
   ]
  },
  {
   "cell_type": "code",
   "execution_count": 54,
   "metadata": {},
   "outputs": [
    {
     "name": "stdout",
     "output_type": "stream",
     "text": [
      "****** Genereate: test.png\n"
     ]
    },
    {
     "data": {
      "image/png": "[encoded data removed]",
      "text/plain": [
       "<matplotlib.figure.Figure at 0x11803a550>"
      ]
     },
     "metadata": {},
     "output_type": "display_data"
    }
   ],
   "source": [
    "stepVariable = 1\n",
    "step = (z.max() - z.min()) / 10\n",
    "\n",
    "# verificar el valor del intervalo\n",
    "if step <= 1:\n",
    "    stepVariable = 1\n",
    "\n",
    "clevs = np.linspace(z.min(), z.max() + stepVariable , 10)\n",
    "#clevs = [1,2,3,4,5,6,7,8,9,10]\n",
    "\n",
    "# contour plot\n",
    "cs = m.contourf(xi,yi,zi, clevs, zorder=5, alpha=0.5, cmap='PuBu')\n",
    "\n",
    "# agregar archivo shape de estados\n",
    "m.readshapefile('../shapes/Estados', 'Estados')\n",
    "\n",
    "# colorbar\n",
    "cbar = m.colorbar(cs, location='right', pad=\"5%\")\n",
    "cbar.set_label('pm')\n",
    "plt.annotate('@2018 INIFAP', xy=(-109,29), xycoords='figure fraction', xytext=(0.45,0.45), color='g', zorder=50)\n",
    "\n",
    "# nombre\n",
    "nombreTemporalParaElMapa = \"test.png\"\n",
    "plt.savefig(nombreTemporalParaElMapa, dpi=300)\n",
    "print('****** Genereate: {}'.format(nombreTemporalParaElMapa))"
   ]
  },
  {
   "cell_type": "code",
   "execution_count": null,
   "metadata": {
    "collapsed": true
   },
   "outputs": [],
   "source": []
  }
 ],
 "metadata": {
  "kernelspec": {
   "display_name": "Python 3",
   "language": "python",
   "name": "python3"
  },
  "language_info": {
   "codemirror_mode": {
    "name": "ipython",
    "version": 3
   },
   "file_extension": ".py",
   "mimetype": "text/x-python",
   "name": "python",
   "nbconvert_exporter": "python",
   "pygments_lexer": "ipython3",
   "version": "3.6.4"
  }
 },
 "nbformat": 4,
 "nbformat_minor": 2
}
